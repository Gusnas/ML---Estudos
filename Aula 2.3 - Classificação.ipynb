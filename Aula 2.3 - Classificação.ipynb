{
 "cells": [
  {
   "cell_type": "code",
   "execution_count": 48,
   "id": "16ca50f0",
   "metadata": {},
   "outputs": [],
   "source": [
    "import pandas as pd\n",
    "from sklearn.neighbors import KNeighborsClassifier"
   ]
  },
  {
   "cell_type": "code",
   "execution_count": 49,
   "id": "eba9fa43",
   "metadata": {},
   "outputs": [],
   "source": [
    "knn = KNeighborsClassifier(n_neighbors=3)"
   ]
  },
  {
   "cell_type": "code",
   "execution_count": 50,
   "id": "3a3fc55e",
   "metadata": {},
   "outputs": [],
   "source": [
    "data = pd.read_table('fruit_data_with_colors.txt')"
   ]
  },
  {
   "cell_type": "code",
   "execution_count": 51,
   "id": "36f6e769",
   "metadata": {},
   "outputs": [],
   "source": [
    "X = data[['mass','height','width','color_score']]\n",
    "y = data['fruit_label']"
   ]
  },
  {
   "cell_type": "code",
   "execution_count": 52,
   "id": "8222a41f",
   "metadata": {},
   "outputs": [],
   "source": [
    "from sklearn.model_selection import train_test_split"
   ]
  },
  {
   "cell_type": "code",
   "execution_count": 53,
   "id": "36eda7f9",
   "metadata": {},
   "outputs": [],
   "source": [
    "X_train, X_test, y_train, y_test = train_test_split(X,y)"
   ]
  },
  {
   "cell_type": "code",
   "execution_count": 54,
   "id": "a92c0eb4",
   "metadata": {},
   "outputs": [
    {
     "data": {
      "text/plain": [
       "KNeighborsClassifier(n_neighbors=3)"
      ]
     },
     "execution_count": 54,
     "metadata": {},
     "output_type": "execute_result"
    }
   ],
   "source": [
    "knn.fit(X_train,y_train)"
   ]
  },
  {
   "cell_type": "code",
   "execution_count": 55,
   "id": "d0ba7494",
   "metadata": {},
   "outputs": [
    {
     "data": {
      "text/plain": [
       "0.6666666666666666"
      ]
     },
     "execution_count": 55,
     "metadata": {},
     "output_type": "execute_result"
    }
   ],
   "source": [
    "knn.score(X_test,y_test)"
   ]
  },
  {
   "cell_type": "code",
   "execution_count": 56,
   "id": "46a5e88f",
   "metadata": {},
   "outputs": [],
   "source": [
    "from sklearn.preprocessing import MinMaxScaler"
   ]
  },
  {
   "cell_type": "code",
   "execution_count": 57,
   "id": "a0c92d1a",
   "metadata": {},
   "outputs": [],
   "source": [
    "mm = MinMaxScaler()"
   ]
  },
  {
   "cell_type": "code",
   "execution_count": 58,
   "id": "723dc9d5",
   "metadata": {},
   "outputs": [],
   "source": [
    "X_train = mm.fit_transform(X_train)"
   ]
  },
  {
   "cell_type": "code",
   "execution_count": 59,
   "id": "ebd06c9f",
   "metadata": {},
   "outputs": [],
   "source": [
    "X_test = mm.transform(X_test)"
   ]
  },
  {
   "cell_type": "code",
   "execution_count": 60,
   "id": "78480ee8",
   "metadata": {},
   "outputs": [
    {
     "data": {
      "text/plain": [
       "array([[ 0.34965035,  0.49230769,  0.42105263,  0.02941176],\n",
       "       [ 0.15384615,  0.67692308,  0.05263158,  0.44117647],\n",
       "       [ 0.18881119,  0.64615385,  0.05263158,  0.35294118],\n",
       "       [ 0.40559441,  0.50769231,  0.68421053, -0.11764706],\n",
       "       [ 0.01398601,  0.04615385,  0.        ,  0.52941176],\n",
       "       [ 0.29370629,  0.53846154,  0.44736842,  0.79411765],\n",
       "       [ 0.27972028,  0.52307692,  0.42105263,  0.73529412],\n",
       "       [ 0.13986014,  0.69230769,  0.07894737,  0.35294118],\n",
       "       [ 0.32867133,  0.6       ,  0.47368421,  0.85294118],\n",
       "       [ 0.14685315,  0.63076923,  0.07894737,  0.32352941],\n",
       "       [ 0.32167832,  0.55384615,  0.44736842,  0.41176471],\n",
       "       [ 0.01398601,  0.04615385,  0.02631579,  0.64705882],\n",
       "       [ 0.26573427,  0.69230769,  0.18421053,  0.38235294],\n",
       "       [ 0.22377622,  0.47692308,  0.39473684,  0.82352941],\n",
       "       [ 0.38461538,  0.8       ,  0.36842105,  0.38235294]])"
      ]
     },
     "execution_count": 60,
     "metadata": {},
     "output_type": "execute_result"
    }
   ],
   "source": [
    "X_test"
   ]
  },
  {
   "cell_type": "code",
   "execution_count": 61,
   "id": "1e0b937e",
   "metadata": {},
   "outputs": [
    {
     "data": {
      "text/plain": [
       "KNeighborsClassifier(n_neighbors=3)"
      ]
     },
     "execution_count": 61,
     "metadata": {},
     "output_type": "execute_result"
    }
   ],
   "source": [
    "knn.fit(X_train,y_train)"
   ]
  },
  {
   "cell_type": "code",
   "execution_count": 64,
   "id": "5b4702b9",
   "metadata": {
    "scrolled": true
   },
   "outputs": [
    {
     "data": {
      "text/plain": [
       "0.9333333333333333"
      ]
     },
     "execution_count": 64,
     "metadata": {},
     "output_type": "execute_result"
    }
   ],
   "source": [
    "knn.score(X_test,y_test)"
   ]
  },
  {
   "cell_type": "code",
   "execution_count": 65,
   "id": "d4d0dd81",
   "metadata": {},
   "outputs": [
    {
     "data": {
      "text/plain": [
       "array([1, 4, 4, 1, 2, 1, 1, 4, 1, 4, 3, 2, 4, 1, 4], dtype=int64)"
      ]
     },
     "execution_count": 65,
     "metadata": {},
     "output_type": "execute_result"
    }
   ],
   "source": [
    "knn.predict(X_test)"
   ]
  },
  {
   "cell_type": "code",
   "execution_count": null,
   "id": "ff856873",
   "metadata": {},
   "outputs": [],
   "source": []
  }
 ],
 "metadata": {
  "kernelspec": {
   "display_name": "Python 3",
   "language": "python",
   "name": "python3"
  },
  "language_info": {
   "codemirror_mode": {
    "name": "ipython",
    "version": 3
   },
   "file_extension": ".py",
   "mimetype": "text/x-python",
   "name": "python",
   "nbconvert_exporter": "python",
   "pygments_lexer": "ipython3",
   "version": "3.9.4"
  }
 },
 "nbformat": 4,
 "nbformat_minor": 5
}
